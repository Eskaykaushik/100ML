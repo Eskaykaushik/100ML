{
  "nbformat": 4,
  "nbformat_minor": 0,
  "metadata": {
    "colab": {
      "provenance": [],
      "authorship_tag": "ABX9TyMa+2wEz+H5Xny2qG37C0WC",
      "include_colab_link": true
    },
    "kernelspec": {
      "name": "python3",
      "display_name": "Python 3"
    },
    "language_info": {
      "name": "python"
    }
  },
  "cells": [
    {
      "cell_type": "markdown",
      "metadata": {
        "id": "view-in-github",
        "colab_type": "text"
      },
      "source": [
        "<a href=\"https://colab.research.google.com/github/Eskaykaushik/100ML/blob/main/GDusingReLu.ipynb\" target=\"_parent\"><img src=\"https://colab.research.google.com/assets/colab-badge.svg\" alt=\"Open In Colab\"/></a>"
      ]
    },
    {
      "cell_type": "code",
      "execution_count": null,
      "metadata": {
        "colab": {
          "base_uri": "https://localhost:8080/",
          "height": 646
        },
        "id": "jNpZ-S1Kaef4",
        "outputId": "982ecd14-f48d-4eb0-c514-6b85db6c2b75"
      },
      "outputs": [
        {
          "output_type": "stream",
          "name": "stderr",
          "text": [
            "<ipython-input-2-6e76d20419e8>:57: RuntimeWarning: divide by zero encountered in log\n",
            "  loss = -np.mean(y_train * np.log(predicted_output) + (1 - y_train) * np.log(1 - predicted_output))\n",
            "<ipython-input-2-6e76d20419e8>:57: RuntimeWarning: invalid value encountered in multiply\n",
            "  loss = -np.mean(y_train * np.log(predicted_output) + (1 - y_train) * np.log(1 - predicted_output))\n",
            "<ipython-input-2-6e76d20419e8>:57: RuntimeWarning: invalid value encountered in log\n",
            "  loss = -np.mean(y_train * np.log(predicted_output) + (1 - y_train) * np.log(1 - predicted_output))\n"
          ]
        },
        {
          "output_type": "stream",
          "name": "stdout",
          "text": [
            "Confusion Matrix:\n",
            "[[ 85   8]\n",
            " [100  11]]\n",
            "Test Accuracy: 47.06%\n"
          ]
        },
        {
          "output_type": "display_data",
          "data": {
            "text/plain": [
              "<Figure size 640x480 with 1 Axes>"
            ],
            "image/png": "[encoded data removed]"
          },
          "metadata": {}
        }
      ],
      "source": [
        "import numpy as np\n",
        "import pandas as pd\n",
        "import matplotlib.pyplot as plt\n",
        "from sklearn.metrics import confusion_matrix\n",
        "\n",
        "# Load the dataset\n",
        "url = \"/content/student.csv\"  # Replace with the path to your dataset\n",
        "df = pd.read_csv(url)\n",
        "\n",
        "# Extract features (X) and target variable (y)\n",
        "features = ['Age', 'Study Hours', 'Previous Grades', 'Attendance Percentage', 'Test Score', 'Project Score']\n",
        "X = df[features].values\n",
        "y = df['Pass'].values.reshape(-1, 1)\n",
        "\n",
        "# Normalize the features\n",
        "X = (X - X.mean(axis=0)) / X.std(axis=0)\n",
        "\n",
        "# Split the data into training and testing sets\n",
        "split_ratio = 0.8\n",
        "split_index = int(split_ratio * X.shape[0])\n",
        "\n",
        "X_train, X_test = X[:split_index, :], X[split_index:, :]\n",
        "y_train, y_test = y[:split_index], y[split_index:]\n",
        "\n",
        "# Neural Network parameters\n",
        "input_size = X_train.shape[1]\n",
        "hidden_size = 8\n",
        "output_size = 1\n",
        "learning_rate = 0.00001\n",
        "epochs = 10000\n",
        "\n",
        "# Initialize weights\n",
        "np.random.seed(40)\n",
        "weights_input_hidden = np.random.randn(input_size, hidden_size)\n",
        "weights_hidden_output = np.random.randn(hidden_size, output_size)\n",
        "\n",
        "# Sigmoid activation function\n",
        "def sigmoid(x):\n",
        "    return np.maximum(0, x)\n",
        "\n",
        "# Derivative of sigmoid\n",
        "def sigmoid_derivative(x):\n",
        "    return np.where(x > 0, 1, 0)\n",
        "\n",
        "losses = []\n",
        "\n",
        "# Training the neural network using gradient descent\n",
        "for epoch in range(epochs):\n",
        "    # Forward pass\n",
        "    hidden_input = np.dot(X_train, weights_input_hidden)\n",
        "    hidden_output = sigmoid(hidden_input)\n",
        "\n",
        "    output_input = np.dot(hidden_output, weights_hidden_output)\n",
        "    predicted_output = sigmoid(output_input)\n",
        "\n",
        "   # epsilon = 1e-5  # Small epsilon to avoid division by zero\n",
        "    loss = -np.mean(y_train * np.log(predicted_output) + (1 - y_train) * np.log(1 - predicted_output))\n",
        "    losses.append(loss)\n",
        "\n",
        "    # Backpropagation\n",
        "    error = y_train - predicted_output\n",
        "\n",
        "    output_delta = error * sigmoid_derivative(predicted_output)\n",
        "    hidden_error = np.dot(output_delta, weights_hidden_output.T)\n",
        "    hidden_delta = hidden_error * sigmoid_derivative(hidden_output)\n",
        "\n",
        "    # Update weights using gradient descent\n",
        "    weights_hidden_output += hidden_output.T.dot(output_delta) * learning_rate\n",
        "    weights_input_hidden += X_train.T.dot(hidden_delta) * learning_rate\n",
        "\n",
        "# Testing the neural network\n",
        "hidden_layer = sigmoid(np.dot(X_test, weights_input_hidden))\n",
        "final_output = sigmoid(np.dot(hidden_layer, weights_hidden_output))\n",
        "\n",
        "# Threshold the predictions\n",
        "predictions = (final_output > 0.5).astype(int)\n",
        "\n",
        "# Confusion Matrix\n",
        "conf_matrix = confusion_matrix(y_test, predictions)\n",
        "print(\"Confusion Matrix:\")\n",
        "print(conf_matrix)\n",
        "\n",
        "# Evaluate accuracy\n",
        "accuracy = np.mean(predictions == y_test)\n",
        "print(f\"Test Accuracy: {accuracy * 100:.2f}%\")\n",
        "\n",
        "plt.plot(losses)\n",
        "plt.xlabel('Epoch')\n",
        "plt.ylabel('Loss')\n",
        "plt.title('Training Loss Over Epochs')\n",
        "plt.show()\n"
      ]
    },
    {
      "cell_type": "markdown",
      "source": [
        "# New section"
      ],
      "metadata": {
        "id": "IfA2L5difSp9"
      }
    },
    {
      "cell_type": "code",
      "source": [],
      "metadata": {
        "id": "cpmsnnfJa0aV"
      },
      "execution_count": null,
      "outputs": []
    }
  ]
}